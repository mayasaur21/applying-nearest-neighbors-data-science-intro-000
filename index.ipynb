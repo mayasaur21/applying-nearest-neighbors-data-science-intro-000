{
 "cells": [
  {
   "cell_type": "markdown",
   "metadata": {},
   "source": [
    "# Applying Nearest Neighbors "
   ]
  },
  {
   "cell_type": "markdown",
   "metadata": {},
   "source": [
    "### Introduction\n",
    "\n",
    "In the last lesson we derived the nearest neighbor formula.  Nearest neighbors is a powerful algorithm because it allows us to predict other attributes about people using their proximity data.  For example, those who live in a particular neighborhood may be more likely to be a certain age or have similar interests.  Using proximity, we might even be able to determine whether their likelihood to purchase a product approximates that of their neighbors.\n",
    "\n",
    "In this lesson we'll see how the nearest neighbors algorithm allows us to make predictions with data.  We will also look at the workflow for machine learning in general and see some of the common struggles that we experience when applying a machine learning algorithm. "
   ]
  },
  {
   "cell_type": "markdown",
   "metadata": {},
   "source": [
    "###  Learning Objectives"
   ]
  },
  {
   "cell_type": "markdown",
   "metadata": {},
   "source": [
    "* See the machine learning process of Collect, Explore, Train, and Predict \n",
    "* Use the nearest neighbors algorithm to predict other information about users\n",
    "* See common tensions with machine learning algorithms"
   ]
  },
  {
   "cell_type": "markdown",
   "metadata": {},
   "source": [
    "### Explore the data (again)"
   ]
  },
  {
   "cell_type": "markdown",
   "metadata": {},
   "source": [
    "Once again, here are the locations of Bob and our customers.  This time let's add a fourth column for the number of purchases per year.\n",
    "\n",
    "| Name | Avenue #| Block # | No. Purchases |\n",
    "|------|------| ------     |  ---- |\n",
    "| Bob    | 4  |     8     | 52\n",
    "| Suzie  | 1  |     11     | 70\n",
    "| Fred   | 5  |     8     | 60\n",
    "| Edgar  | 6  |     13     | 20\n",
    "| Steven | 3  |     6     | 32\n",
    "| Natalie| 5  |     4     | 45"
   ]
  },
  {
   "cell_type": "markdown",
   "metadata": {},
   "source": [
    "We represent these individuals along with their yearly purchases in Python with the following:"
   ]
  },
  {
   "cell_type": "code",
   "execution_count": 1,
   "metadata": {},
   "outputs": [],
   "source": [
    "neighbors = [{'name': 'Bob', 'x': 4, 'y': 8, 'purchases': 52}, {'name': 'Suzie', 'x': 1, 'y': 11, 'purchases': 70}, \n",
    "             {'name': 'Fred', 'x': 5, 'y': 8, 'purchases': 60}, {'name': 'Edgar', 'x': 6, 'y': 13, 'purchases': 20},\n",
    "             {'name': 'Steven', 'x': 3, 'y': 6, 'purchases': 32}, {'name': 'Natalie', 'x': 5, 'y': 4, 'purchases': 45}]\n",
    "bob = neighbors[0]\n",
    "suzie = neighbors[1]"
   ]
  },
  {
   "cell_type": "code",
   "execution_count": 3,
   "metadata": {},
   "outputs": [
    {
     "data": {
      "text/html": [
       "        <script type=\"text/javascript\">\n",
       "        window.PlotlyConfig = {MathJaxConfig: 'local'};\n",
       "        if (window.MathJax) {MathJax.Hub.Config({SVG: {font: \"STIX-Web\"}});}\n",
       "        if (typeof require !== 'undefined') {\n",
       "        require.undef(\"plotly\");\n",
       "        requirejs.config({\n",
       "            paths: {\n",
       "                'plotly': ['https://cdn.plot.ly/plotly-latest.min']\n",
       "            }\n",
       "        });\n",
       "        require(['plotly'], function(Plotly) {\n",
       "            window._Plotly = Plotly;\n",
       "        });\n",
       "        }\n",
       "        </script>\n",
       "        "
      ]
     },
     "metadata": {},
     "output_type": "display_data"
    },
    {
     "ename": "ValueError",
     "evalue": "Invalid property specified for object of type plotly.graph_objs.Scatter: 'color'\n\n    Valid properties:\n        cliponaxis\n            Determines whether or not markers and text nodes are\n            clipped about the subplot axes. To show markers and\n            text nodes above axis lines and tick labels, make sure\n            to set `xaxis.layer` and `yaxis.layer` to *below\n            traces*.\n        connectgaps\n            Determines whether or not gaps (i.e. {nan} or missing\n            values) in the provided data arrays are connected.\n        customdata\n            Assigns extra data each datum. This may be useful when\n            listening to hover, click and selection events. Note\n            that, \"scatter\" traces also appends customdata items in\n            the markers DOM elements\n        customdatasrc\n            Sets the source reference on plot.ly for  customdata .\n        dx\n            Sets the x coordinate step. See `x0` for more info.\n        dy\n            Sets the y coordinate step. See `y0` for more info.\n        error_x\n            plotly.graph_objects.scatter.ErrorX instance or dict\n            with compatible properties\n        error_y\n            plotly.graph_objects.scatter.ErrorY instance or dict\n            with compatible properties\n        fill\n            Sets the area to fill with a solid color. Defaults to\n            \"none\" unless this trace is stacked, then it gets\n            \"tonexty\" (\"tonextx\") if `orientation` is \"v\" (\"h\") Use\n            with `fillcolor` if not \"none\". \"tozerox\" and \"tozeroy\"\n            fill to x=0 and y=0 respectively. \"tonextx\" and\n            \"tonexty\" fill between the endpoints of this trace and\n            the endpoints of the trace before it, connecting those\n            endpoints with straight lines (to make a stacked area\n            graph); if there is no trace before it, they behave\n            like \"tozerox\" and \"tozeroy\". \"toself\" connects the\n            endpoints of the trace (or each segment of the trace if\n            it has gaps) into a closed shape. \"tonext\" fills the\n            space between two traces if one completely encloses the\n            other (eg consecutive contour lines), and behaves like\n            \"toself\" if there is no trace before it. \"tonext\"\n            should not be used if one trace does not enclose the\n            other. Traces in a `stackgroup` will only fill to (or\n            be filled to) other traces in the same group. With\n            multiple `stackgroup`s or some traces stacked and some\n            not, if fill-linked traces are not already consecutive,\n            the later ones will be pushed down in the drawing\n            order.\n        fillcolor\n            Sets the fill color. Defaults to a half-transparent\n            variant of the line color, marker color, or marker line\n            color, whichever is available.\n        groupnorm\n            Only relevant when `stackgroup` is used, and only the\n            first `groupnorm` found in the `stackgroup` will be\n            used - including if `visible` is \"legendonly\" but not\n            if it is `false`. Sets the normalization for the sum of\n            this `stackgroup`. With \"fraction\", the value of each\n            trace at each location is divided by the sum of all\n            trace values at that location. \"percent\" is the same\n            but multiplied by 100 to show percentages. If there are\n            multiple subplots, or multiple `stackgroup`s on one\n            subplot, each will be normalized within its own set.\n        hoverinfo\n            Determines which trace information appear on hover. If\n            `none` or `skip` are set, no information is displayed\n            upon hovering. But, if `none` is set, click and hover\n            events are still fired.\n        hoverinfosrc\n            Sets the source reference on plot.ly for  hoverinfo .\n        hoverlabel\n            plotly.graph_objects.scatter.Hoverlabel instance or\n            dict with compatible properties\n        hoveron\n            Do the hover effects highlight individual points\n            (markers or line points) or do they highlight filled\n            regions? If the fill is \"toself\" or \"tonext\" and there\n            are no markers or text, then the default is \"fills\",\n            otherwise it is \"points\".\n        hovertemplate\n            Template string used for rendering the information that\n            appear on hover box. Note that this will override\n            `hoverinfo`. Variables are inserted using %{variable},\n            for example \"y: %{y}\". Numbers are formatted using\n            d3-format's syntax %{variable:d3-format}, for example\n            \"Price: %{y:$.2f}\". https://github.com/d3/d3-3.x-api-\n            reference/blob/master/Formatting.md#d3_format for\n            details on the formatting syntax. The variables\n            available in `hovertemplate` are the ones emitted as\n            event data described at this link\n            https://plot.ly/javascript/plotlyjs-events/#event-data.\n            Additionally, every attributes that can be specified\n            per-point (the ones that are `arrayOk: true`) are\n            available.  Anything contained in tag `<extra>` is\n            displayed in the secondary box, for example\n            \"<extra>{fullData.name}</extra>\". To hide the secondary\n            box completely, use an empty tag `<extra></extra>`.\n        hovertemplatesrc\n            Sets the source reference on plot.ly for  hovertemplate\n            .\n        hovertext\n            Sets hover text elements associated with each (x,y)\n            pair. If a single string, the same string appears over\n            all the data points. If an array of string, the items\n            are mapped in order to the this trace's (x,y)\n            coordinates. To be seen, trace `hoverinfo` must contain\n            a \"text\" flag.\n        hovertextsrc\n            Sets the source reference on plot.ly for  hovertext .\n        ids\n            Assigns id labels to each datum. These ids for object\n            constancy of data points during animation. Should be an\n            array of strings, not numbers or any other type.\n        idssrc\n            Sets the source reference on plot.ly for  ids .\n        legendgroup\n            Sets the legend group for this trace. Traces part of\n            the same legend group hide/show at the same time when\n            toggling legend items.\n        line\n            plotly.graph_objects.scatter.Line instance or dict with\n            compatible properties\n        marker\n            plotly.graph_objects.scatter.Marker instance or dict\n            with compatible properties\n        meta\n            Assigns extra meta information associated with this\n            trace that can be used in various text attributes.\n            Attributes such as trace `name`, graph, axis and\n            colorbar `title.text`, annotation `text`\n            `rangeselector`, `updatemenues` and `sliders` `label`\n            text all support `meta`. To access the trace `meta`\n            values in an attribute in the same trace, simply use\n            `%{meta[i]}` where `i` is the index or key of the\n            `meta` item in question. To access trace `meta` in\n            layout attributes, use `%{data[n[.meta[i]}` where `i`\n            is the index or key of the `meta` and `n` is the trace\n            index.\n        metasrc\n            Sets the source reference on plot.ly for  meta .\n        mode\n            Determines the drawing mode for this scatter trace. If\n            the provided `mode` includes \"text\" then the `text`\n            elements appear at the coordinates. Otherwise, the\n            `text` elements appear on hover. If there are less than\n            20 points and the trace is not stacked then the default\n            is \"lines+markers\". Otherwise, \"lines\".\n        name\n            Sets the trace name. The trace name appear as the\n            legend item and on hover.\n        opacity\n            Sets the opacity of the trace.\n        orientation\n            Only relevant when `stackgroup` is used, and only the\n            first `orientation` found in the `stackgroup` will be\n            used - including if `visible` is \"legendonly\" but not\n            if it is `false`. Sets the stacking direction. With \"v\"\n            (\"h\"), the y (x) values of subsequent traces are added.\n            Also affects the default value of `fill`.\n        r\n            r coordinates in scatter traces are deprecated!Please\n            switch to the \"scatterpolar\" trace type.Sets the radial\n            coordinatesfor legacy polar chart only.\n        rsrc\n            Sets the source reference on plot.ly for  r .\n        selected\n            plotly.graph_objects.scatter.Selected instance or dict\n            with compatible properties\n        selectedpoints\n            Array containing integer indices of selected points.\n            Has an effect only for traces that support selections.\n            Note that an empty array means an empty selection where\n            the `unselected` are turned on for all points, whereas,\n            any other non-array values means no selection all where\n            the `selected` and `unselected` styles have no effect.\n        showlegend\n            Determines whether or not an item corresponding to this\n            trace is shown in the legend.\n        stackgaps\n            Only relevant when `stackgroup` is used, and only the\n            first `stackgaps` found in the `stackgroup` will be\n            used - including if `visible` is \"legendonly\" but not\n            if it is `false`. Determines how we handle locations at\n            which other traces in this group have data but this one\n            does not. With *infer zero* we insert a zero at these\n            locations. With \"interpolate\" we linearly interpolate\n            between existing values, and extrapolate a constant\n            beyond the existing values.\n        stackgroup\n            Set several scatter traces (on the same subplot) to the\n            same stackgroup in order to add their y values (or\n            their x values if `orientation` is \"h\"). If blank or\n            omitted this trace will not be stacked. Stacking also\n            turns `fill` on by default, using \"tonexty\" (\"tonextx\")\n            if `orientation` is \"h\" (\"v\") and sets the default\n            `mode` to \"lines\" irrespective of point count. You can\n            only stack on a numeric (linear or log) axis. Traces in\n            a `stackgroup` will only fill to (or be filled to)\n            other traces in the same group. With multiple\n            `stackgroup`s or some traces stacked and some not, if\n            fill-linked traces are not already consecutive, the\n            later ones will be pushed down in the drawing order.\n        stream\n            plotly.graph_objects.scatter.Stream instance or dict\n            with compatible properties\n        t\n            t coordinates in scatter traces are deprecated!Please\n            switch to the \"scatterpolar\" trace type.Sets the\n            angular coordinatesfor legacy polar chart only.\n        text\n            Sets text elements associated with each (x,y) pair. If\n            a single string, the same string appears over all the\n            data points. If an array of string, the items are\n            mapped in order to the this trace's (x,y) coordinates.\n            If trace `hoverinfo` contains a \"text\" flag and\n            \"hovertext\" is not set, these elements will be seen in\n            the hover labels.\n        textfont\n            Sets the text font.\n        textposition\n            Sets the positions of the `text` elements with respects\n            to the (x,y) coordinates.\n        textpositionsrc\n            Sets the source reference on plot.ly for  textposition\n            .\n        textsrc\n            Sets the source reference on plot.ly for  text .\n        tsrc\n            Sets the source reference on plot.ly for  t .\n        uid\n            Assign an id to this trace, Use this to provide object\n            constancy between traces during animations and\n            transitions.\n        uirevision\n            Controls persistence of some user-driven changes to the\n            trace: `constraintrange` in `parcoords` traces, as well\n            as some `editable: true` modifications such as `name`\n            and `colorbar.title`. Defaults to `layout.uirevision`.\n            Note that other user-driven trace attribute changes are\n            controlled by `layout` attributes: `trace.visible` is\n            controlled by `layout.legend.uirevision`,\n            `selectedpoints` is controlled by\n            `layout.selectionrevision`, and `colorbar.(x|y)`\n            (accessible with `config: {editable: true}`) is\n            controlled by `layout.editrevision`. Trace changes are\n            tracked by `uid`, which only falls back on trace index\n            if no `uid` is provided. So if your app can add/remove\n            traces before the end of the `data` array, such that\n            the same trace has a different index, you can still\n            preserve user-driven changes if you give each trace a\n            `uid` that stays with it as it moves.\n        unselected\n            plotly.graph_objects.scatter.Unselected instance or\n            dict with compatible properties\n        visible\n            Determines whether or not this trace is visible. If\n            \"legendonly\", the trace is not drawn, but can appear as\n            a legend item (provided that the legend itself is\n            visible).\n        x\n            Sets the x coordinates.\n        x0\n            Alternate to `x`. Builds a linear space of x\n            coordinates. Use with `dx` where `x0` is the starting\n            coordinate and `dx` the step.\n        xaxis\n            Sets a reference between this trace's x coordinates and\n            a 2D cartesian x axis. If \"x\" (the default value), the\n            x coordinates refer to `layout.xaxis`. If \"x2\", the x\n            coordinates refer to `layout.xaxis2`, and so on.\n        xcalendar\n            Sets the calendar system to use with `x` date data.\n        xsrc\n            Sets the source reference on plot.ly for  x .\n        y\n            Sets the y coordinates.\n        y0\n            Alternate to `y`. Builds a linear space of y\n            coordinates. Use with `dy` where `y0` is the starting\n            coordinate and `dy` the step.\n        yaxis\n            Sets a reference between this trace's y coordinates and\n            a 2D cartesian y axis. If \"y\" (the default value), the\n            y coordinates refer to `layout.yaxis`. If \"y2\", the y\n            coordinates refer to `layout.yaxis2`, and so on.\n        ycalendar\n            Sets the calendar system to use with `y` date data.\n        ysrc\n            Sets the source reference on plot.ly for  y .\n        ",
     "output_type": "error",
     "traceback": [
      "\u001b[0;31m\u001b[0m",
      "\u001b[0;31mValueError\u001b[0mTraceback (most recent call last)",
      "\u001b[0;32m<ipython-input-3-3da1424ab125>\u001b[0m in \u001b[0;36m<module>\u001b[0;34m\u001b[0m\n\u001b[1;32m      6\u001b[0m               \u001b[0mtext\u001b[0m\u001b[0;34m=\u001b[0m\u001b[0mlist\u001b[0m\u001b[0;34m(\u001b[0m\u001b[0mmap\u001b[0m\u001b[0;34m(\u001b[0m\u001b[0;32mlambda\u001b[0m \u001b[0mneighbor\u001b[0m\u001b[0;34m:\u001b[0m \u001b[0mneighbor\u001b[0m\u001b[0;34m[\u001b[0m\u001b[0;34m'name'\u001b[0m\u001b[0;34m]\u001b[0m \u001b[0;34m+\u001b[0m \u001b[0;34m': '\u001b[0m \u001b[0;34m+\u001b[0m \u001b[0mstr\u001b[0m\u001b[0;34m(\u001b[0m\u001b[0mneighbor\u001b[0m\u001b[0;34m[\u001b[0m\u001b[0;34m'purchases'\u001b[0m\u001b[0;34m]\u001b[0m\u001b[0;34m)\u001b[0m\u001b[0;34m,\u001b[0m\u001b[0mneighbors\u001b[0m\u001b[0;34m)\u001b[0m\u001b[0;34m)\u001b[0m\u001b[0;34m,\u001b[0m\u001b[0;34m\u001b[0m\u001b[0;34m\u001b[0m\u001b[0m\n\u001b[1;32m      7\u001b[0m               mode='markers', color='avenue')\n\u001b[0;32m----> 8\u001b[0;31m \u001b[0mplotly\u001b[0m\u001b[0;34m.\u001b[0m\u001b[0moffline\u001b[0m\u001b[0;34m.\u001b[0m\u001b[0miplot\u001b[0m\u001b[0;34m(\u001b[0m\u001b[0mdict\u001b[0m\u001b[0;34m(\u001b[0m\u001b[0mdata\u001b[0m\u001b[0;34m=\u001b[0m\u001b[0;34m[\u001b[0m\u001b[0mtrace0\u001b[0m\u001b[0;34m]\u001b[0m\u001b[0;34m,\u001b[0m \u001b[0mlayout\u001b[0m\u001b[0;34m=\u001b[0m\u001b[0;34m{\u001b[0m\u001b[0;34m'xaxis'\u001b[0m\u001b[0;34m:\u001b[0m \u001b[0;34m{\u001b[0m\u001b[0;34m'dtick'\u001b[0m\u001b[0;34m:\u001b[0m \u001b[0;36m1\u001b[0m\u001b[0;34m}\u001b[0m\u001b[0;34m,\u001b[0m \u001b[0;34m'yaxis'\u001b[0m\u001b[0;34m:\u001b[0m \u001b[0;34m{\u001b[0m\u001b[0;34m'dtick'\u001b[0m\u001b[0;34m:\u001b[0m \u001b[0;36m1\u001b[0m\u001b[0;34m}\u001b[0m\u001b[0;34m}\u001b[0m\u001b[0;34m)\u001b[0m\u001b[0;34m)\u001b[0m\u001b[0;34m\u001b[0m\u001b[0;34m\u001b[0m\u001b[0m\n\u001b[0m",
      "\u001b[0;32m/opt/conda/envs/learn-env/lib/python3.6/site-packages/plotly/offline/offline.py\u001b[0m in \u001b[0;36miplot\u001b[0;34m(figure_or_data, show_link, link_text, validate, image, filename, image_width, image_height, config, auto_play, animation_opts)\u001b[0m\n\u001b[1;32m    381\u001b[0m \u001b[0;34m\u001b[0m\u001b[0m\n\u001b[1;32m    382\u001b[0m     \u001b[0;31m# Get figure\u001b[0m\u001b[0;34m\u001b[0m\u001b[0;34m\u001b[0m\u001b[0;34m\u001b[0m\u001b[0m\n\u001b[0;32m--> 383\u001b[0;31m     \u001b[0mfigure\u001b[0m \u001b[0;34m=\u001b[0m \u001b[0mtools\u001b[0m\u001b[0;34m.\u001b[0m\u001b[0mreturn_figure_from_figure_or_data\u001b[0m\u001b[0;34m(\u001b[0m\u001b[0mfigure_or_data\u001b[0m\u001b[0;34m,\u001b[0m \u001b[0mvalidate\u001b[0m\u001b[0;34m)\u001b[0m\u001b[0;34m\u001b[0m\u001b[0;34m\u001b[0m\u001b[0m\n\u001b[0m\u001b[1;32m    384\u001b[0m \u001b[0;34m\u001b[0m\u001b[0m\n\u001b[1;32m    385\u001b[0m     \u001b[0;31m# Handle image request\u001b[0m\u001b[0;34m\u001b[0m\u001b[0;34m\u001b[0m\u001b[0;34m\u001b[0m\u001b[0m\n",
      "\u001b[0;32m/opt/conda/envs/learn-env/lib/python3.6/site-packages/plotly/tools.py\u001b[0m in \u001b[0;36mreturn_figure_from_figure_or_data\u001b[0;34m(figure_or_data, validate_figure)\u001b[0m\n\u001b[1;32m    551\u001b[0m \u001b[0;34m\u001b[0m\u001b[0m\n\u001b[1;32m    552\u001b[0m         \u001b[0;32mtry\u001b[0m\u001b[0;34m:\u001b[0m\u001b[0;34m\u001b[0m\u001b[0;34m\u001b[0m\u001b[0m\n\u001b[0;32m--> 553\u001b[0;31m             \u001b[0mfigure\u001b[0m \u001b[0;34m=\u001b[0m \u001b[0mFigure\u001b[0m\u001b[0;34m(\u001b[0m\u001b[0;34m**\u001b[0m\u001b[0mfigure\u001b[0m\u001b[0;34m)\u001b[0m\u001b[0;34m.\u001b[0m\u001b[0mto_dict\u001b[0m\u001b[0;34m(\u001b[0m\u001b[0;34m)\u001b[0m\u001b[0;34m\u001b[0m\u001b[0;34m\u001b[0m\u001b[0m\n\u001b[0m\u001b[1;32m    554\u001b[0m         \u001b[0;32mexcept\u001b[0m \u001b[0mexceptions\u001b[0m\u001b[0;34m.\u001b[0m\u001b[0mPlotlyError\u001b[0m \u001b[0;32mas\u001b[0m \u001b[0merr\u001b[0m\u001b[0;34m:\u001b[0m\u001b[0;34m\u001b[0m\u001b[0;34m\u001b[0m\u001b[0m\n\u001b[1;32m    555\u001b[0m             raise exceptions.PlotlyError(\n",
      "\u001b[0;32m/opt/conda/envs/learn-env/lib/python3.6/site-packages/plotly/graph_objs/_figure.py\u001b[0m in \u001b[0;36m__init__\u001b[0;34m(self, data, layout, frames, skip_invalid, **kwargs)\u001b[0m\n\u001b[1;32m    586\u001b[0m             \u001b[0;32mis\u001b[0m \u001b[0minvalid\u001b[0m \u001b[0mAND\u001b[0m \u001b[0mskip_invalid\u001b[0m \u001b[0;32mis\u001b[0m \u001b[0;32mFalse\u001b[0m\u001b[0;34m\u001b[0m\u001b[0;34m\u001b[0m\u001b[0m\n\u001b[1;32m    587\u001b[0m         \"\"\"\n\u001b[0;32m--> 588\u001b[0;31m         \u001b[0msuper\u001b[0m\u001b[0;34m(\u001b[0m\u001b[0mFigure\u001b[0m\u001b[0;34m,\u001b[0m \u001b[0mself\u001b[0m\u001b[0;34m)\u001b[0m\u001b[0;34m.\u001b[0m\u001b[0m__init__\u001b[0m\u001b[0;34m(\u001b[0m\u001b[0mdata\u001b[0m\u001b[0;34m,\u001b[0m \u001b[0mlayout\u001b[0m\u001b[0;34m,\u001b[0m \u001b[0mframes\u001b[0m\u001b[0;34m,\u001b[0m \u001b[0mskip_invalid\u001b[0m\u001b[0;34m,\u001b[0m \u001b[0;34m**\u001b[0m\u001b[0mkwargs\u001b[0m\u001b[0;34m)\u001b[0m\u001b[0;34m\u001b[0m\u001b[0;34m\u001b[0m\u001b[0m\n\u001b[0m\u001b[1;32m    589\u001b[0m \u001b[0;34m\u001b[0m\u001b[0m\n\u001b[1;32m    590\u001b[0m     def add_area(\n",
      "\u001b[0;32m/opt/conda/envs/learn-env/lib/python3.6/site-packages/plotly/basedatatypes.py\u001b[0m in \u001b[0;36m__init__\u001b[0;34m(self, data, layout_plotly, frames, skip_invalid, **kwargs)\u001b[0m\n\u001b[1;32m    155\u001b[0m \u001b[0;34m\u001b[0m\u001b[0m\n\u001b[1;32m    156\u001b[0m         \u001b[0;31m# ### Import traces ###\u001b[0m\u001b[0;34m\u001b[0m\u001b[0;34m\u001b[0m\u001b[0;34m\u001b[0m\u001b[0m\n\u001b[0;32m--> 157\u001b[0;31m         \u001b[0mdata\u001b[0m \u001b[0;34m=\u001b[0m \u001b[0mself\u001b[0m\u001b[0;34m.\u001b[0m\u001b[0m_data_validator\u001b[0m\u001b[0;34m.\u001b[0m\u001b[0mvalidate_coerce\u001b[0m\u001b[0;34m(\u001b[0m\u001b[0mdata\u001b[0m\u001b[0;34m,\u001b[0m \u001b[0mskip_invalid\u001b[0m\u001b[0;34m=\u001b[0m\u001b[0mskip_invalid\u001b[0m\u001b[0;34m)\u001b[0m\u001b[0;34m\u001b[0m\u001b[0;34m\u001b[0m\u001b[0m\n\u001b[0m\u001b[1;32m    158\u001b[0m \u001b[0;34m\u001b[0m\u001b[0m\n\u001b[1;32m    159\u001b[0m         \u001b[0;31m# ### Save tuple of trace objects ###\u001b[0m\u001b[0;34m\u001b[0m\u001b[0;34m\u001b[0m\u001b[0;34m\u001b[0m\u001b[0m\n",
      "\u001b[0;32m/opt/conda/envs/learn-env/lib/python3.6/site-packages/_plotly_utils/basevalidators.py\u001b[0m in \u001b[0;36mvalidate_coerce\u001b[0;34m(self, v, skip_invalid)\u001b[0m\n\u001b[1;32m   2643\u001b[0m                     \u001b[0;32melse\u001b[0m\u001b[0;34m:\u001b[0m\u001b[0;34m\u001b[0m\u001b[0;34m\u001b[0m\u001b[0m\n\u001b[1;32m   2644\u001b[0m                         trace = self.class_map[trace_type](\n\u001b[0;32m-> 2645\u001b[0;31m                             \u001b[0mskip_invalid\u001b[0m\u001b[0;34m=\u001b[0m\u001b[0mskip_invalid\u001b[0m\u001b[0;34m,\u001b[0m \u001b[0;34m**\u001b[0m\u001b[0mv_copy\u001b[0m\u001b[0;34m\u001b[0m\u001b[0;34m\u001b[0m\u001b[0m\n\u001b[0m\u001b[1;32m   2646\u001b[0m                         )\n\u001b[1;32m   2647\u001b[0m                         \u001b[0mres\u001b[0m\u001b[0;34m.\u001b[0m\u001b[0mappend\u001b[0m\u001b[0;34m(\u001b[0m\u001b[0mtrace\u001b[0m\u001b[0;34m)\u001b[0m\u001b[0;34m\u001b[0m\u001b[0;34m\u001b[0m\u001b[0m\n",
      "\u001b[0;32m/opt/conda/envs/learn-env/lib/python3.6/site-packages/plotly/graph_objs/__init__.py\u001b[0m in \u001b[0;36m__init__\u001b[0;34m(self, arg, cliponaxis, connectgaps, customdata, customdatasrc, dx, dy, error_x, error_y, fill, fillcolor, groupnorm, hoverinfo, hoverinfosrc, hoverlabel, hoveron, hovertemplate, hovertemplatesrc, hovertext, hovertextsrc, ids, idssrc, legendgroup, line, marker, meta, metasrc, mode, name, opacity, orientation, r, rsrc, selected, selectedpoints, showlegend, stackgaps, stackgroup, stream, t, text, textfont, textposition, textpositionsrc, textsrc, tsrc, uid, uirevision, unselected, visible, x, x0, xaxis, xcalendar, xsrc, y, y0, yaxis, ycalendar, ysrc, **kwargs)\u001b[0m\n\u001b[1;32m  39721\u001b[0m         \u001b[0;31m# Process unknown kwargs\u001b[0m\u001b[0;34m\u001b[0m\u001b[0;34m\u001b[0m\u001b[0;34m\u001b[0m\u001b[0m\n\u001b[1;32m  39722\u001b[0m         \u001b[0;31m# ----------------------\u001b[0m\u001b[0;34m\u001b[0m\u001b[0;34m\u001b[0m\u001b[0;34m\u001b[0m\u001b[0m\n\u001b[0;32m> 39723\u001b[0;31m         \u001b[0mself\u001b[0m\u001b[0;34m.\u001b[0m\u001b[0m_process_kwargs\u001b[0m\u001b[0;34m(\u001b[0m\u001b[0;34m**\u001b[0m\u001b[0mdict\u001b[0m\u001b[0;34m(\u001b[0m\u001b[0marg\u001b[0m\u001b[0;34m,\u001b[0m \u001b[0;34m**\u001b[0m\u001b[0mkwargs\u001b[0m\u001b[0;34m)\u001b[0m\u001b[0;34m)\u001b[0m\u001b[0;34m\u001b[0m\u001b[0;34m\u001b[0m\u001b[0m\n\u001b[0m\u001b[1;32m  39724\u001b[0m \u001b[0;34m\u001b[0m\u001b[0m\n\u001b[1;32m  39725\u001b[0m         \u001b[0;31m# Reset skip_invalid\u001b[0m\u001b[0;34m\u001b[0m\u001b[0;34m\u001b[0m\u001b[0;34m\u001b[0m\u001b[0m\n",
      "\u001b[0;32m/opt/conda/envs/learn-env/lib/python3.6/site-packages/plotly/basedatatypes.py\u001b[0m in \u001b[0;36m_process_kwargs\u001b[0;34m(self, **kwargs)\u001b[0m\n\u001b[1;32m   2897\u001b[0m \u001b[0;34m\u001b[0m\u001b[0m\n\u001b[1;32m   2898\u001b[0m         \u001b[0;32mif\u001b[0m \u001b[0minvalid_kwargs\u001b[0m \u001b[0;32mand\u001b[0m \u001b[0;32mnot\u001b[0m \u001b[0mself\u001b[0m\u001b[0;34m.\u001b[0m\u001b[0m_skip_invalid\u001b[0m\u001b[0;34m:\u001b[0m\u001b[0;34m\u001b[0m\u001b[0;34m\u001b[0m\u001b[0m\n\u001b[0;32m-> 2899\u001b[0;31m             \u001b[0mself\u001b[0m\u001b[0;34m.\u001b[0m\u001b[0m_raise_on_invalid_property_error\u001b[0m\u001b[0;34m(\u001b[0m\u001b[0;34m*\u001b[0m\u001b[0minvalid_kwargs\u001b[0m\u001b[0;34m.\u001b[0m\u001b[0mkeys\u001b[0m\u001b[0;34m(\u001b[0m\u001b[0;34m)\u001b[0m\u001b[0;34m)\u001b[0m\u001b[0;34m\u001b[0m\u001b[0;34m\u001b[0m\u001b[0m\n\u001b[0m\u001b[1;32m   2900\u001b[0m \u001b[0;34m\u001b[0m\u001b[0m\n\u001b[1;32m   2901\u001b[0m     \u001b[0;34m@\u001b[0m\u001b[0mproperty\u001b[0m\u001b[0;34m\u001b[0m\u001b[0;34m\u001b[0m\u001b[0m\n",
      "\u001b[0;32m/opt/conda/envs/learn-env/lib/python3.6/site-packages/plotly/basedatatypes.py\u001b[0m in \u001b[0;36m_raise_on_invalid_property_error\u001b[0;34m(self, *args)\u001b[0m\n\u001b[1;32m   3527\u001b[0m                     \u001b[0mfull_obj_name\u001b[0m\u001b[0;34m=\u001b[0m\u001b[0mfull_obj_name\u001b[0m\u001b[0;34m,\u001b[0m\u001b[0;34m\u001b[0m\u001b[0;34m\u001b[0m\u001b[0m\n\u001b[1;32m   3528\u001b[0m                     \u001b[0minvalid_str\u001b[0m\u001b[0;34m=\u001b[0m\u001b[0minvalid_str\u001b[0m\u001b[0;34m,\u001b[0m\u001b[0;34m\u001b[0m\u001b[0;34m\u001b[0m\u001b[0m\n\u001b[0;32m-> 3529\u001b[0;31m                     \u001b[0mprop_descriptions\u001b[0m\u001b[0;34m=\u001b[0m\u001b[0mself\u001b[0m\u001b[0;34m.\u001b[0m\u001b[0m_prop_descriptions\u001b[0m\u001b[0;34m,\u001b[0m\u001b[0;34m\u001b[0m\u001b[0;34m\u001b[0m\u001b[0m\n\u001b[0m\u001b[1;32m   3530\u001b[0m                 )\n\u001b[1;32m   3531\u001b[0m             )\n",
      "\u001b[0;31mValueError\u001b[0m: Invalid property specified for object of type plotly.graph_objs.Scatter: 'color'\n\n    Valid properties:\n        cliponaxis\n            Determines whether or not markers and text nodes are\n            clipped about the subplot axes. To show markers and\n            text nodes above axis lines and tick labels, make sure\n            to set `xaxis.layer` and `yaxis.layer` to *below\n            traces*.\n        connectgaps\n            Determines whether or not gaps (i.e. {nan} or missing\n            values) in the provided data arrays are connected.\n        customdata\n            Assigns extra data each datum. This may be useful when\n            listening to hover, click and selection events. Note\n            that, \"scatter\" traces also appends customdata items in\n            the markers DOM elements\n        customdatasrc\n            Sets the source reference on plot.ly for  customdata .\n        dx\n            Sets the x coordinate step. See `x0` for more info.\n        dy\n            Sets the y coordinate step. See `y0` for more info.\n        error_x\n            plotly.graph_objects.scatter.ErrorX instance or dict\n            with compatible properties\n        error_y\n            plotly.graph_objects.scatter.ErrorY instance or dict\n            with compatible properties\n        fill\n            Sets the area to fill with a solid color. Defaults to\n            \"none\" unless this trace is stacked, then it gets\n            \"tonexty\" (\"tonextx\") if `orientation` is \"v\" (\"h\") Use\n            with `fillcolor` if not \"none\". \"tozerox\" and \"tozeroy\"\n            fill to x=0 and y=0 respectively. \"tonextx\" and\n            \"tonexty\" fill between the endpoints of this trace and\n            the endpoints of the trace before it, connecting those\n            endpoints with straight lines (to make a stacked area\n            graph); if there is no trace before it, they behave\n            like \"tozerox\" and \"tozeroy\". \"toself\" connects the\n            endpoints of the trace (or each segment of the trace if\n            it has gaps) into a closed shape. \"tonext\" fills the\n            space between two traces if one completely encloses the\n            other (eg consecutive contour lines), and behaves like\n            \"toself\" if there is no trace before it. \"tonext\"\n            should not be used if one trace does not enclose the\n            other. Traces in a `stackgroup` will only fill to (or\n            be filled to) other traces in the same group. With\n            multiple `stackgroup`s or some traces stacked and some\n            not, if fill-linked traces are not already consecutive,\n            the later ones will be pushed down in the drawing\n            order.\n        fillcolor\n            Sets the fill color. Defaults to a half-transparent\n            variant of the line color, marker color, or marker line\n            color, whichever is available.\n        groupnorm\n            Only relevant when `stackgroup` is used, and only the\n            first `groupnorm` found in the `stackgroup` will be\n            used - including if `visible` is \"legendonly\" but not\n            if it is `false`. Sets the normalization for the sum of\n            this `stackgroup`. With \"fraction\", the value of each\n            trace at each location is divided by the sum of all\n            trace values at that location. \"percent\" is the same\n            but multiplied by 100 to show percentages. If there are\n            multiple subplots, or multiple `stackgroup`s on one\n            subplot, each will be normalized within its own set.\n        hoverinfo\n            Determines which trace information appear on hover. If\n            `none` or `skip` are set, no information is displayed\n            upon hovering. But, if `none` is set, click and hover\n            events are still fired.\n        hoverinfosrc\n            Sets the source reference on plot.ly for  hoverinfo .\n        hoverlabel\n            plotly.graph_objects.scatter.Hoverlabel instance or\n            dict with compatible properties\n        hoveron\n            Do the hover effects highlight individual points\n            (markers or line points) or do they highlight filled\n            regions? If the fill is \"toself\" or \"tonext\" and there\n            are no markers or text, then the default is \"fills\",\n            otherwise it is \"points\".\n        hovertemplate\n            Template string used for rendering the information that\n            appear on hover box. Note that this will override\n            `hoverinfo`. Variables are inserted using %{variable},\n            for example \"y: %{y}\". Numbers are formatted using\n            d3-format's syntax %{variable:d3-format}, for example\n            \"Price: %{y:$.2f}\". https://github.com/d3/d3-3.x-api-\n            reference/blob/master/Formatting.md#d3_format for\n            details on the formatting syntax. The variables\n            available in `hovertemplate` are the ones emitted as\n            event data described at this link\n            https://plot.ly/javascript/plotlyjs-events/#event-data.\n            Additionally, every attributes that can be specified\n            per-point (the ones that are `arrayOk: true`) are\n            available.  Anything contained in tag `<extra>` is\n            displayed in the secondary box, for example\n            \"<extra>{fullData.name}</extra>\". To hide the secondary\n            box completely, use an empty tag `<extra></extra>`.\n        hovertemplatesrc\n            Sets the source reference on plot.ly for  hovertemplate\n            .\n        hovertext\n            Sets hover text elements associated with each (x,y)\n            pair. If a single string, the same string appears over\n            all the data points. If an array of string, the items\n            are mapped in order to the this trace's (x,y)\n            coordinates. To be seen, trace `hoverinfo` must contain\n            a \"text\" flag.\n        hovertextsrc\n            Sets the source reference on plot.ly for  hovertext .\n        ids\n            Assigns id labels to each datum. These ids for object\n            constancy of data points during animation. Should be an\n            array of strings, not numbers or any other type.\n        idssrc\n            Sets the source reference on plot.ly for  ids .\n        legendgroup\n            Sets the legend group for this trace. Traces part of\n            the same legend group hide/show at the same time when\n            toggling legend items.\n        line\n            plotly.graph_objects.scatter.Line instance or dict with\n            compatible properties\n        marker\n            plotly.graph_objects.scatter.Marker instance or dict\n            with compatible properties\n        meta\n            Assigns extra meta information associated with this\n            trace that can be used in various text attributes.\n            Attributes such as trace `name`, graph, axis and\n            colorbar `title.text`, annotation `text`\n            `rangeselector`, `updatemenues` and `sliders` `label`\n            text all support `meta`. To access the trace `meta`\n            values in an attribute in the same trace, simply use\n            `%{meta[i]}` where `i` is the index or key of the\n            `meta` item in question. To access trace `meta` in\n            layout attributes, use `%{data[n[.meta[i]}` where `i`\n            is the index or key of the `meta` and `n` is the trace\n            index.\n        metasrc\n            Sets the source reference on plot.ly for  meta .\n        mode\n            Determines the drawing mode for this scatter trace. If\n            the provided `mode` includes \"text\" then the `text`\n            elements appear at the coordinates. Otherwise, the\n            `text` elements appear on hover. If there are less than\n            20 points and the trace is not stacked then the default\n            is \"lines+markers\". Otherwise, \"lines\".\n        name\n            Sets the trace name. The trace name appear as the\n            legend item and on hover.\n        opacity\n            Sets the opacity of the trace.\n        orientation\n            Only relevant when `stackgroup` is used, and only the\n            first `orientation` found in the `stackgroup` will be\n            used - including if `visible` is \"legendonly\" but not\n            if it is `false`. Sets the stacking direction. With \"v\"\n            (\"h\"), the y (x) values of subsequent traces are added.\n            Also affects the default value of `fill`.\n        r\n            r coordinates in scatter traces are deprecated!Please\n            switch to the \"scatterpolar\" trace type.Sets the radial\n            coordinatesfor legacy polar chart only.\n        rsrc\n            Sets the source reference on plot.ly for  r .\n        selected\n            plotly.graph_objects.scatter.Selected instance or dict\n            with compatible properties\n        selectedpoints\n            Array containing integer indices of selected points.\n            Has an effect only for traces that support selections.\n            Note that an empty array means an empty selection where\n            the `unselected` are turned on for all points, whereas,\n            any other non-array values means no selection all where\n            the `selected` and `unselected` styles have no effect.\n        showlegend\n            Determines whether or not an item corresponding to this\n            trace is shown in the legend.\n        stackgaps\n            Only relevant when `stackgroup` is used, and only the\n            first `stackgaps` found in the `stackgroup` will be\n            used - including if `visible` is \"legendonly\" but not\n            if it is `false`. Determines how we handle locations at\n            which other traces in this group have data but this one\n            does not. With *infer zero* we insert a zero at these\n            locations. With \"interpolate\" we linearly interpolate\n            between existing values, and extrapolate a constant\n            beyond the existing values.\n        stackgroup\n            Set several scatter traces (on the same subplot) to the\n            same stackgroup in order to add their y values (or\n            their x values if `orientation` is \"h\"). If blank or\n            omitted this trace will not be stacked. Stacking also\n            turns `fill` on by default, using \"tonexty\" (\"tonextx\")\n            if `orientation` is \"h\" (\"v\") and sets the default\n            `mode` to \"lines\" irrespective of point count. You can\n            only stack on a numeric (linear or log) axis. Traces in\n            a `stackgroup` will only fill to (or be filled to)\n            other traces in the same group. With multiple\n            `stackgroup`s or some traces stacked and some not, if\n            fill-linked traces are not already consecutive, the\n            later ones will be pushed down in the drawing order.\n        stream\n            plotly.graph_objects.scatter.Stream instance or dict\n            with compatible properties\n        t\n            t coordinates in scatter traces are deprecated!Please\n            switch to the \"scatterpolar\" trace type.Sets the\n            angular coordinatesfor legacy polar chart only.\n        text\n            Sets text elements associated with each (x,y) pair. If\n            a single string, the same string appears over all the\n            data points. If an array of string, the items are\n            mapped in order to the this trace's (x,y) coordinates.\n            If trace `hoverinfo` contains a \"text\" flag and\n            \"hovertext\" is not set, these elements will be seen in\n            the hover labels.\n        textfont\n            Sets the text font.\n        textposition\n            Sets the positions of the `text` elements with respects\n            to the (x,y) coordinates.\n        textpositionsrc\n            Sets the source reference on plot.ly for  textposition\n            .\n        textsrc\n            Sets the source reference on plot.ly for  text .\n        tsrc\n            Sets the source reference on plot.ly for  t .\n        uid\n            Assign an id to this trace, Use this to provide object\n            constancy between traces during animations and\n            transitions.\n        uirevision\n            Controls persistence of some user-driven changes to the\n            trace: `constraintrange` in `parcoords` traces, as well\n            as some `editable: true` modifications such as `name`\n            and `colorbar.title`. Defaults to `layout.uirevision`.\n            Note that other user-driven trace attribute changes are\n            controlled by `layout` attributes: `trace.visible` is\n            controlled by `layout.legend.uirevision`,\n            `selectedpoints` is controlled by\n            `layout.selectionrevision`, and `colorbar.(x|y)`\n            (accessible with `config: {editable: true}`) is\n            controlled by `layout.editrevision`. Trace changes are\n            tracked by `uid`, which only falls back on trace index\n            if no `uid` is provided. So if your app can add/remove\n            traces before the end of the `data` array, such that\n            the same trace has a different index, you can still\n            preserve user-driven changes if you give each trace a\n            `uid` that stays with it as it moves.\n        unselected\n            plotly.graph_objects.scatter.Unselected instance or\n            dict with compatible properties\n        visible\n            Determines whether or not this trace is visible. If\n            \"legendonly\", the trace is not drawn, but can appear as\n            a legend item (provided that the legend itself is\n            visible).\n        x\n            Sets the x coordinates.\n        x0\n            Alternate to `x`. Builds a linear space of x\n            coordinates. Use with `dx` where `x0` is the starting\n            coordinate and `dx` the step.\n        xaxis\n            Sets a reference between this trace's x coordinates and\n            a 2D cartesian x axis. If \"x\" (the default value), the\n            x coordinates refer to `layout.xaxis`. If \"x2\", the x\n            coordinates refer to `layout.xaxis2`, and so on.\n        xcalendar\n            Sets the calendar system to use with `x` date data.\n        xsrc\n            Sets the source reference on plot.ly for  x .\n        y\n            Sets the y coordinates.\n        y0\n            Alternate to `y`. Builds a linear space of y\n            coordinates. Use with `dy` where `y0` is the starting\n            coordinate and `dy` the step.\n        yaxis\n            Sets a reference between this trace's y coordinates and\n            a 2D cartesian y axis. If \"y\" (the default value), the\n            y coordinates refer to `layout.yaxis`. If \"y2\", the y\n            coordinates refer to `layout.yaxis2`, and so on.\n        ycalendar\n            Sets the calendar system to use with `y` date data.\n        ysrc\n            Sets the source reference on plot.ly for  y .\n        "
     ]
    }
   ],
   "source": [
    "import plotly\n",
    "\n",
    "plotly.offline.init_notebook_mode(connected=True)\n",
    "trace0 = dict(x=list(map(lambda neighbor: neighbor['x'],neighbors)), \n",
    "              y=list(map(lambda neighbor: neighbor['y'],neighbors)),\n",
    "              text=list(map(lambda neighbor: neighbor['name'] + ': ' + str(neighbor['purchases']),neighbors)),\n",
    "              mode='markers', color='x')\n",
    "plotly.offline.iplot(dict(data=[trace0], layout={'xaxis': {'dtick': 1}, 'yaxis': {'dtick': 1}}))"
   ]
  },
  {
   "cell_type": "markdown",
   "metadata": {},
   "source": [
    "Just by looking at this data, aside from Suzie, it seems that the proximity of customers provides a good indication of the number of cupcake purchases per customer.  Assume that a new customer just purchased his first cupcake, and we want to develop some expectation for how many cupcakes he may purchase from us in the following year.  His location may help us determine the ingredients we need to buy to satisfy his demand.  Let's see what the nearest neighbors algorithm tells us."
   ]
  },
  {
   "cell_type": "markdown",
   "metadata": {},
   "source": [
    "### Apply our nearest neighbors algorithm"
   ]
  },
  {
   "cell_type": "markdown",
   "metadata": {},
   "source": [
    "Here is the nearest neighbors algorithm once again.  The code below reflects the following steps:\n",
    "\n",
    "1. Write a function to calculate the distance of one neighbor from another\n",
    "2. Write a function that returns the distance between one neighbor and all others (using `map`)\n",
    "3. Return a selected number of nearest neighbors"
   ]
  },
  {
   "cell_type": "markdown",
   "metadata": {},
   "source": [
    "Ok once again, here is the code."
   ]
  },
  {
   "cell_type": "code",
   "execution_count": 3,
   "metadata": {},
   "outputs": [],
   "source": [
    "import math\n",
    "\n",
    "def distance(selected_individual, neighbor):\n",
    "   distance_squared = (neighbor['x'] - selected_individual['x'])**2 + (neighbor['y'] - selected_individual['y'])**2\n",
    "   return math.sqrt(distance_squared)\n",
    "\n",
    "def distance_between_neighbors(selected_individual, neighbor):\n",
    "    neighbor_with_distance = neighbor.copy()\n",
    "    neighbor_with_distance['distance'] = distance(selected_individual, neighbor)\n",
    "    return neighbor_with_distance\n",
    "\n",
    "def distance_all(selected_individual, neighbors):\n",
    "    remaining_neighbors = filter(lambda neighbor: neighbor != selected_individual, neighbors)\n",
    "    return list(map(lambda neighbor: distance_between_neighbors(selected_individual, neighbor), remaining_neighbors))"
   ]
  },
  {
   "cell_type": "code",
   "execution_count": 4,
   "metadata": {},
   "outputs": [],
   "source": [
    "def nearest_neighbors(selected_individual, neighbors, number = None):\n",
    "    number = number or len(neighbors)\n",
    "    neighbor_distances = distance_all(selected_individual, neighbors)\n",
    "    sorted_neighbors = sorted(neighbor_distances, key=lambda neighbor: neighbor['distance'])\n",
    "    return sorted_neighbors[:number]"
   ]
  },
  {
   "cell_type": "code",
   "execution_count": 5,
   "metadata": {
    "scrolled": false
   },
   "outputs": [
    {
     "data": {
      "text/plain": [
       "[{'name': 'Fred', 'x': 5, 'y': 8, 'purchases': 60, 'distance': 1.0}]"
      ]
     },
     "execution_count": 5,
     "metadata": {},
     "output_type": "execute_result"
    }
   ],
   "source": [
    "bob = neighbors[0]\n",
    "nearest_neighbor_to_bob = nearest_neighbors(bob, neighbors, 1)\n",
    "nearest_neighbor_to_bob"
   ]
  },
  {
   "cell_type": "markdown",
   "metadata": {},
   "source": [
    "We try our `nearest_neighbors` function on a known piece of data, `bob`.  When we ask our function to return only the closest neighbor, it returns Fred and tells us his number of purchases.  Perhaps we can expect Bob's number of purchases to be similar to Fred's.  We also can apply the function to a customer at new location to predict this customer's number of purchases."
   ]
  },
  {
   "cell_type": "code",
   "execution_count": 6,
   "metadata": {
    "scrolled": true
   },
   "outputs": [
    {
     "data": {
      "text/plain": [
       "[{'name': 'Natalie',\n",
       "  'x': 5,\n",
       "  'y': 4,\n",
       "  'purchases': 45,\n",
       "  'distance': 1.4142135623730951}]"
      ]
     },
     "execution_count": 6,
     "metadata": {},
     "output_type": "execute_result"
    }
   ],
   "source": [
    "nearest_neighbor_to_new = nearest_neighbors({'x': 4, 'y': 3}, neighbors, 1)\n",
    "nearest_neighbor_to_new"
   ]
  },
  {
   "cell_type": "markdown",
   "metadata": {},
   "source": [
    "However, simply choosing the **nearest neighbor** seems like an arbitrary way to estimate number of purchases.  Our estimate is determined by just one individual's purchases.  We ought to expand the number of neighbors and take the average of their purchases to produce a better estimate for purchases by someone at this new location."
   ]
  },
  {
   "cell_type": "code",
   "execution_count": null,
   "metadata": {},
   "outputs": [],
   "source": [
    "nearest_three_neighbors = nearest_neighbors({'x': 4, 'y': 3}, neighbors, 3)\n",
    "nearest_three_neighbors"
   ]
  },
  {
   "cell_type": "code",
   "execution_count": null,
   "metadata": {},
   "outputs": [],
   "source": [
    "purchases = list(map(lambda neighbor: neighbor['purchases'],nearest_three_neighbors))\n",
    "average = sum(purchases)/len(purchases)\n",
    "average # 43.0"
   ]
  },
  {
   "cell_type": "markdown",
   "metadata": {},
   "source": [
    "### Choosing the number of neighbors"
   ]
  },
  {
   "cell_type": "markdown",
   "metadata": {},
   "source": [
    "In the above section, we use the nearest neighbors formula to make a prediction.  It's telling us that someone who lives on 4th street and 3rd Avenue is expected to purchase 45 cupcakes.  This approach is highly flawed since our algorithm's predictions change dramatically depending upon the number of neighbors we include in our formula.  The number of neighbors that we choose in the nearest neighbors algorithm is represented by `k`."
   ]
  },
  {
   "cell_type": "markdown",
   "metadata": {},
   "source": [
    "Choosing the correct number of neighbors to consider touches upon a number of themes in data science.  We'll introduce a few of these issues here, so we are aware of them as we visit other machine learning problems."
   ]
  },
  {
   "cell_type": "markdown",
   "metadata": {},
   "source": [
    "#### Underfitting\n",
    "\n",
    "**Underfitting** occurs when our formula does not pick up on the relevant signals from the data.  For example, if the number of neighbors we have is too large, our algorithm would improperly predict the purchases of our known customers, as it would fail to respond to differences in location."
   ]
  },
  {
   "cell_type": "markdown",
   "metadata": {},
   "source": [
    "#### Minimizing for error\n",
    "\n",
    "How do we determine the correct number for `k`, the number of neighbors to consider?  One way is to see how well our algorithm predicts against our existing data, then make the necessary changes.\n",
    "\n",
    "For instance, when we look at Bob's closest neighbor by setting `k = 1`, the nearest neighbor algorithm expects Bob to make 60 purchases. We already know that Bob actually purchased 52 cupcakes, so our formula is off by 8.  This number, our actual value minus the expected value, is called the **error**.  We can optimize the algorithm by adding all of the errors across all of the neighbors and selecting that `k` which minimizes this aggregate error for all of our data."
   ]
  },
  {
   "cell_type": "markdown",
   "metadata": {},
   "source": [
    "#### Training \n",
    "\n",
    "This approach of looking at our existing dataset to optimize for some metric, like the lowest error, is called **training**. In this example, we train our algorithm by choosing numbers of `k` such that our algorithm optimizes for predicting the number of purchases in our dataset."
   ]
  },
  {
   "cell_type": "markdown",
   "metadata": {},
   "source": [
    "#### Overfitting\n",
    "\n",
    "However, when training our algorithm to match our data, **overfitting** could become a problem.  Overfitting occurs when we overgeneralize from the data.  If we are served a bad meal at a chain restaurant, we could improperly conclude that all meals at the chain are bad.  The same thing can happen with our algorithm.\n",
    "\n",
    "Our algorithm can be optimized for and perform well with our existing data, but not do well with new data.  Imagine that we have one hundred cupcake customers and choosing a `k` of 2 best minimizes the error in predicting the number of purchases.  We could find later that, as we get new customers, our model does not predict their purchases.\n",
    "\n",
    "The algorithm could pick up on things particular to our existing data set, but fails to generalize to new data."
   ]
  },
  {
   "cell_type": "markdown",
   "metadata": {},
   "source": [
    "#### Testing "
   ]
  },
  {
   "cell_type": "markdown",
   "metadata": {},
   "source": [
    "To see whether the algorithm fits new data, we should test it with new data.  Data scientists cannot waste time waiting for new data to arrive, so they split their data in two: roughly 80 percent of the data for testing and 20 percent for training.  The training dataset is used for tweaking the algorithm, as we just saw, so that it minimizes the error or some other metric.  Once the algorithm is optimized, they study how well their algorithm performs on something it is not molded to, called test data.  If the algorithm performs well on this test data, it is ready for use and can make new predictions."
   ]
  },
  {
   "cell_type": "markdown",
   "metadata": {},
   "source": [
    "#### All together"
   ]
  },
  {
   "cell_type": "markdown",
   "metadata": {},
   "source": [
    "So these four concepts are all related.  Underfitting occurs when our algorithm is not responsive enough to our data, and therefore we can optimize our algorithm to better predict our existing data.  Changing our algorithm so it responds to our data is called **training**.  **Overfitting** is the risk of training the algorithm to an existing data set to the extent that it picks up on the quirks of the data and fails to generalize to new data.  To prevent against overfitting, data scientists set aside a portion of the data for **testing** to determine if the algorithm properly can predict on this portion of the data. "
   ]
  },
  {
   "cell_type": "markdown",
   "metadata": {},
   "source": [
    "### Summary"
   ]
  },
  {
   "cell_type": "markdown",
   "metadata": {},
   "source": [
    "In this lesson, we reviewed how to collect and explore data by implementing the Pythagorean Theorem and the sorting method to build our nearest neighbors algorithm.  We then learned how we could train the algorithm so that it can produce predictions about incoming data.\n"
   ]
  },
  {
   "cell_type": "markdown",
   "metadata": {},
   "source": [
    "As you can see, there is a very structured approach, and a lot of thought that goes into simply choosing the correct `k` size.  At this point, we need not be so formal when choosing our `k` value.  We'll learn in the next section that by choosing a correct `k`, we still can derive a nearest neighbors algorithm that is fairly predictive of our data."
   ]
  }
 ],
 "metadata": {
  "kernelspec": {
   "display_name": "Python 3",
   "language": "python",
   "name": "python3"
  },
  "language_info": {
   "codemirror_mode": {
    "name": "ipython",
    "version": 3
   },
   "file_extension": ".py",
   "mimetype": "text/x-python",
   "name": "python",
   "nbconvert_exporter": "python",
   "pygments_lexer": "ipython3",
   "version": "3.6.9"
  }
 },
 "nbformat": 4,
 "nbformat_minor": 2
}
